{
 "cells": [
  {
   "cell_type": "code",
   "execution_count": 1,
   "metadata": {},
   "outputs": [],
   "source": [
    "import pandas as pd\n",
    "import matplotlib.pyplot as plt\n",
    "import matplotlib.ticker as ticker\n",
    "import os\n",
    "import csv"
   ]
  },
  {
   "cell_type": "code",
   "execution_count": 2,
   "metadata": {},
   "outputs": [
    {
     "data": {
      "text/html": [
       "<div>\n",
       "<style scoped>\n",
       "    .dataframe tbody tr th:only-of-type {\n",
       "        vertical-align: middle;\n",
       "    }\n",
       "\n",
       "    .dataframe tbody tr th {\n",
       "        vertical-align: top;\n",
       "    }\n",
       "\n",
       "    .dataframe thead th {\n",
       "        text-align: right;\n",
       "    }\n",
       "</style>\n",
       "<table border=\"1\" class=\"dataframe\">\n",
       "  <thead>\n",
       "    <tr style=\"text-align: right;\">\n",
       "      <th></th>\n",
       "      <th>Year</th>\n",
       "      <th>Population</th>\n",
       "      <th>Violent Crime rate</th>\n",
       "      <th>Murder and nonnegligent manslaughter rate</th>\n",
       "      <th>Legacy rape rate /1</th>\n",
       "      <th>Robbery rate</th>\n",
       "      <th>Aggravated assault rate</th>\n",
       "      <th>Property crime rate</th>\n",
       "      <th>Burglary rate</th>\n",
       "      <th>Larceny-theft rate</th>\n",
       "      <th>Motor vehicle theft rate</th>\n",
       "    </tr>\n",
       "  </thead>\n",
       "  <tbody>\n",
       "    <tr>\n",
       "      <th>0</th>\n",
       "      <td>United States-Total</td>\n",
       "      <td>199399000</td>\n",
       "      <td>298.4</td>\n",
       "      <td>6.9</td>\n",
       "      <td>15.9</td>\n",
       "      <td>131.8</td>\n",
       "      <td>143.8</td>\n",
       "      <td>3071.8</td>\n",
       "      <td>932.3</td>\n",
       "      <td>1746.6</td>\n",
       "      <td>393</td>\n",
       "    </tr>\n",
       "  </tbody>\n",
       "</table>\n",
       "</div>"
      ],
      "text/plain": [
       "                  Year  Population  Violent Crime rate  \\\n",
       "0  United States-Total   199399000               298.4   \n",
       "\n",
       "   Murder and nonnegligent manslaughter rate  Legacy rape rate /1  \\\n",
       "0                                        6.9                 15.9   \n",
       "\n",
       "   Robbery rate  Aggravated assault rate  Property crime rate  Burglary rate  \\\n",
       "0         131.8                    143.8               3071.8          932.3   \n",
       "\n",
       "   Larceny-theft rate  Motor vehicle theft rate  \n",
       "0              1746.6                       393  "
      ]
     },
     "execution_count": 2,
     "metadata": {},
     "output_type": "execute_result"
    }
   ],
   "source": [
    "crime1968_df = pd.read_csv('Crime Data/1968.csv')\n",
    "crime1968_df = crime1968_df.drop(['Revised rape rate /2'], axis='columns')\n",
    "crime1968_df = crime1968_df.rename(columns={'State': 'Year'})\n",
    "crime1968_df = crime1968_df.replace({0: 1968})\n",
    "\n",
    "crime1969_df = pd.read_csv('Crime Data/1969.csv')\n",
    "crime1969_df = crime1969_df.drop(['Revised rape rate /2'], axis='columns')\n",
    "\n",
    "crime1970_df = pd.read_csv('Crime Data/1970.csv')\n",
    "crime1970_df = crime1970_df.drop(['Revised rape rate /2'], axis='columns')\n",
    "\n",
    "crime1971_df = pd.read_csv('Crime Data/1971.csv')\n",
    "crime1971_df = crime1971_df.drop(['Revised rape rate /2'], axis='columns')\n",
    "\n",
    "crime1972_df = pd.read_csv('Crime Data/1972.csv')\n",
    "crime1972_df = crime1972_df.drop(['Revised rape rate /2'], axis='columns')\n",
    "\n",
    "crime1973_df = pd.read_csv('Crime Data/1973.csv')\n",
    "crime1973_df = crime1973_df.drop(['Revised rape rate /2'], axis='columns')\n",
    "\n",
    "crime1974_df = pd.read_csv('Crime Data/1974.csv')\n",
    "crime1974_df = crime1974_df.drop(['Revised rape rate /2'], axis='columns')\n",
    "\n",
    "crime1975_df = pd.read_csv('Crime Data/1975.csv')\n",
    "crime1975_df = crime1975_df.drop(['Revised rape rate /2'], axis='columns')\n",
    "\n",
    "crime1976_df = pd.read_csv('Crime Data/1976.csv')\n",
    "crime1976_df = crime1976_df.drop(['Revised rape rate /2'], axis='columns')\n",
    "\n",
    "crime1977_df = pd.read_csv('Crime Data/1977.csv')\n",
    "crime1977_df = crime1977_df.drop(['Revised rape rate /2'], axis='columns')\n",
    "\n",
    "crime1978_df = pd.read_csv('Crime Data/1978.csv')\n",
    "crime1978_df = crime1978_df.drop(['Revised rape rate /2'], axis='columns')\n",
    "\n",
    "crime1968_df"
   ]
  },
  {
   "cell_type": "code",
   "execution_count": null,
   "metadata": {},
   "outputs": [],
   "source": []
  }
 ],
 "metadata": {
  "kernelspec": {
   "display_name": "Python [conda env:PythonData]",
   "language": "python",
   "name": "conda-env-PythonData-py"
  },
  "language_info": {
   "codemirror_mode": {
    "name": "ipython",
    "version": 3
   },
   "file_extension": ".py",
   "mimetype": "text/x-python",
   "name": "python",
   "nbconvert_exporter": "python",
   "pygments_lexer": "ipython3",
   "version": "3.6.10"
  }
 },
 "nbformat": 4,
 "nbformat_minor": 2
}
