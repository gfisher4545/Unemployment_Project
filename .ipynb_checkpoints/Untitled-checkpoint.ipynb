{
 "cells": [
  {
   "cell_type": "code",
   "execution_count": 1,
   "metadata": {},
   "outputs": [],
   "source": [
    "# Dependencies and Setup\n",
    "import matplotlib.pyplot as plt\n",
    "import pandas as pd\n",
    "import numpy as np"
   ]
  },
  {
   "cell_type": "code",
   "execution_count": 2,
   "metadata": {},
   "outputs": [],
   "source": [
    "savings_data = \"savingsrate.csv\""
   ]
  },
  {
   "cell_type": "code",
   "execution_count": 3,
   "metadata": {},
   "outputs": [
    {
     "data": {
      "text/html": [
       "<div>\n",
       "<style scoped>\n",
       "    .dataframe tbody tr th:only-of-type {\n",
       "        vertical-align: middle;\n",
       "    }\n",
       "\n",
       "    .dataframe tbody tr th {\n",
       "        vertical-align: top;\n",
       "    }\n",
       "\n",
       "    .dataframe thead th {\n",
       "        text-align: right;\n",
       "    }\n",
       "</style>\n",
       "<table border=\"1\" class=\"dataframe\">\n",
       "  <thead>\n",
       "    <tr style=\"text-align: right;\">\n",
       "      <th></th>\n",
       "      <th>DATE</th>\n",
       "      <th>PSAVERT</th>\n",
       "    </tr>\n",
       "  </thead>\n",
       "  <tbody>\n",
       "    <tr>\n",
       "      <td>0</td>\n",
       "      <td>1959-01-01</td>\n",
       "      <td>11.3</td>\n",
       "    </tr>\n",
       "    <tr>\n",
       "      <td>1</td>\n",
       "      <td>1959-02-01</td>\n",
       "      <td>10.6</td>\n",
       "    </tr>\n",
       "    <tr>\n",
       "      <td>2</td>\n",
       "      <td>1959-03-01</td>\n",
       "      <td>10.3</td>\n",
       "    </tr>\n",
       "    <tr>\n",
       "      <td>3</td>\n",
       "      <td>1959-04-01</td>\n",
       "      <td>11.2</td>\n",
       "    </tr>\n",
       "    <tr>\n",
       "      <td>4</td>\n",
       "      <td>1959-05-01</td>\n",
       "      <td>10.6</td>\n",
       "    </tr>\n",
       "  </tbody>\n",
       "</table>\n",
       "</div>"
      ],
      "text/plain": [
       "         DATE  PSAVERT\n",
       "0  1959-01-01     11.3\n",
       "1  1959-02-01     10.6\n",
       "2  1959-03-01     10.3\n",
       "3  1959-04-01     11.2\n",
       "4  1959-05-01     10.6"
      ]
     },
     "execution_count": 3,
     "metadata": {},
     "output_type": "execute_result"
    }
   ],
   "source": [
    "savingsrate_df = pd.read_csv(savings_data, encoding=\"ISO-8859-1\") \n",
    "savingsrate_df.head()"
   ]
  },
  {
   "cell_type": "code",
   "execution_count": 4,
   "metadata": {},
   "outputs": [
    {
     "data": {
      "text/html": [
       "<div>\n",
       "<style scoped>\n",
       "    .dataframe tbody tr th:only-of-type {\n",
       "        vertical-align: middle;\n",
       "    }\n",
       "\n",
       "    .dataframe tbody tr th {\n",
       "        vertical-align: top;\n",
       "    }\n",
       "\n",
       "    .dataframe thead th {\n",
       "        text-align: right;\n",
       "    }\n",
       "</style>\n",
       "<table border=\"1\" class=\"dataframe\">\n",
       "  <thead>\n",
       "    <tr style=\"text-align: right;\">\n",
       "      <th></th>\n",
       "      <th>Date</th>\n",
       "      <th>Savings_rate</th>\n",
       "    </tr>\n",
       "  </thead>\n",
       "  <tbody>\n",
       "    <tr>\n",
       "      <td>0</td>\n",
       "      <td>1959-01-01</td>\n",
       "      <td>11.3</td>\n",
       "    </tr>\n",
       "    <tr>\n",
       "      <td>1</td>\n",
       "      <td>1959-02-01</td>\n",
       "      <td>10.6</td>\n",
       "    </tr>\n",
       "    <tr>\n",
       "      <td>2</td>\n",
       "      <td>1959-03-01</td>\n",
       "      <td>10.3</td>\n",
       "    </tr>\n",
       "    <tr>\n",
       "      <td>3</td>\n",
       "      <td>1959-04-01</td>\n",
       "      <td>11.2</td>\n",
       "    </tr>\n",
       "    <tr>\n",
       "      <td>4</td>\n",
       "      <td>1959-05-01</td>\n",
       "      <td>10.6</td>\n",
       "    </tr>\n",
       "  </tbody>\n",
       "</table>\n",
       "</div>"
      ],
      "text/plain": [
       "         Date  Savings_rate\n",
       "0  1959-01-01          11.3\n",
       "1  1959-02-01          10.6\n",
       "2  1959-03-01          10.3\n",
       "3  1959-04-01          11.2\n",
       "4  1959-05-01          10.6"
      ]
     },
     "execution_count": 4,
     "metadata": {},
     "output_type": "execute_result"
    }
   ],
   "source": [
    "savingsrate_df = savingsrate_df.rename(columns=\n",
    "                                      {\"DATE\":\"Date\",\n",
    "                                      \"PSAVERT\": \"Savings_rate\"}\n",
    "                                      )\n",
    "savingsrate_df.head()"
   ]
  },
  {
   "cell_type": "code",
   "execution_count": 39,
   "metadata": {},
   "outputs": [],
   "source": [
    "# Extract date ranges to include 5yrs (60 mos) before and after each recession\n",
    "savingsrate1973 = savingsrate_df.iloc[114:246].reset_index()\n",
    "savingsrate1980 = savingsrate_df.iloc[198:330].reset_index()\n",
    "savingsrate2001 = savingsrate_df.iloc[450:582].reset_index()\n",
    "savingsrate2008 = savingsrate_df.iloc[534:666].reset_index()\n",
    "savingsrate2020 = savingsrate_df.iloc[678:].reset_index()\n"
   ]
  },
  {
   "cell_type": "code",
   "execution_count": 74,
   "metadata": {},
   "outputs": [],
   "source": [
    "# 10 year period averages\n",
    "avg_savingsrate73 = savingsrate_df.iloc[114:246]\n",
    "avg_savingsrate80 = savingsrate_df.iloc[198:330]\n",
    "avg_savingsrate01 = savingsrate_df.iloc[450:582]\n",
    "avg_savingsrate08 = savingsrate_df.iloc[534:666]\n",
    "avg_savingsrate20 = savingsrate_df.iloc[678:]\n"
   ]
  },
  {
   "cell_type": "code",
   "execution_count": 142,
   "metadata": {},
   "outputs": [],
   "source": [
    "#Before 1973 Recession\n",
    "sav1973b = round(savingsrate1973.iloc[0:54][\"Savings_rate\"].mean(),2)"
   ]
  },
  {
   "cell_type": "code",
   "execution_count": 146,
   "metadata": {},
   "outputs": [],
   "source": [
    "#After 1973 Recession\n",
    "sav1973a = round(savingsrate1973.iloc[70:][\"Savings_rate\"].mean(),2)"
   ]
  },
  {
   "cell_type": "code",
   "execution_count": 149,
   "metadata": {},
   "outputs": [],
   "source": [
    "#Before 1980 Recession\n",
    "sav1980b = round(savingsrate1980.iloc[0:54][\"Savings_rate\"].mean(),2)"
   ]
  },
  {
   "cell_type": "code",
   "execution_count": 150,
   "metadata": {},
   "outputs": [],
   "source": [
    "#After 1980 Recession\n",
    "sav1980a = round(savingsrate1980.iloc[60:][\"Savings_rate\"].mean(),2)"
   ]
  },
  {
   "cell_type": "code",
   "execution_count": 151,
   "metadata": {},
   "outputs": [],
   "source": [
    "#Before 2001 Recession\n",
    "sav2001b = round(savingsrate2001.iloc[0:57][\"Savings_rate\"].mean(),2)"
   ]
  },
  {
   "cell_type": "code",
   "execution_count": 152,
   "metadata": {},
   "outputs": [],
   "source": [
    "#After 2001 Recession\n",
    "sav2001a = round(savingsrate2001.iloc[65:][\"Savings_rate\"].mean(),2)"
   ]
  },
  {
   "cell_type": "code",
   "execution_count": 153,
   "metadata": {},
   "outputs": [],
   "source": [
    "#Before 2008 Recession\n",
    "sav2008b = round(savingsrate2008.iloc[0:53][\"Savings_rate\"].mean(),2)"
   ]
  },
  {
   "cell_type": "code",
   "execution_count": 154,
   "metadata": {},
   "outputs": [],
   "source": [
    "#After 2008 Recession\n",
    "sav2008a = round(savingsrate2008.iloc[71:][\"Savings_rate\"].mean(),2)"
   ]
  },
  {
   "cell_type": "code",
   "execution_count": 164,
   "metadata": {},
   "outputs": [],
   "source": [
    "# Present Day\n",
    "sav2020p = round(savingsrate2020.iloc[0:][\"Savings_rate\"].mean(),2)"
   ]
  },
  {
   "cell_type": "code",
   "execution_count": null,
   "metadata": {},
   "outputs": [],
   "source": []
  },
  {
   "cell_type": "code",
   "execution_count": 84,
   "metadata": {},
   "outputs": [
    {
     "data": {
      "text/plain": [
       "1973  index           179.500000\n",
       "      Savings_rate     12.130303\n",
       "1980  index           263.500000\n",
       "      Savings_rate     10.887121\n",
       "2001  index           515.500000\n",
       "      Savings_rate      5.173485\n",
       "2008  index           599.500000\n",
       "      Savings_rate      5.671212\n",
       "2020  index           705.000000\n",
       "      Savings_rate      7.363636\n",
       "dtype: float64"
      ]
     },
     "execution_count": 84,
     "metadata": {},
     "output_type": "execute_result"
    }
   ],
   "source": [
    "savings_10yr=pd.concat([savingsrate1973, savingsrate1980,savingsrate2001,savingsrate2008,savingsrate2020],\n",
    "                       axis=1, keys=['1973', '1980', '2001', '2008','2020'])\n",
    "\n",
    "savings_10yr.mean()"
   ]
  },
  {
   "cell_type": "code",
   "execution_count": 46,
   "metadata": {},
   "outputs": [
    {
     "name": "stdout",
     "output_type": "stream",
     "text": [
      " Max_savings:17.3 | Min_savings:2.2\n"
     ]
    }
   ],
   "source": [
    "#Find the max/min savings_rate across all recessions\n",
    "savingsrate73_20 = savingsrate_df.iloc[114:]\n",
    "max_save = savingsrate73_20.max()\n",
    "min_save = savingsrate73_20.min()\n",
    "print(f\" Max_savings:{max_save[1]} | Min_savings:{min_save[1]}\")"
   ]
  },
  {
   "cell_type": "code",
   "execution_count": 168,
   "metadata": {},
   "outputs": [
    {
     "ename": "ValueError",
     "evalue": "not enough values to unpack (expected 4, got 2)",
     "output_type": "error",
     "traceback": [
      "\u001b[1;31m---------------------------------------------------------------------------\u001b[0m",
      "\u001b[1;31mValueError\u001b[0m                                Traceback (most recent call last)",
      "\u001b[1;32m<ipython-input-168-b8f357eb9124>\u001b[0m in \u001b[0;36m<module>\u001b[1;34m\u001b[0m\n\u001b[0;32m      1\u001b[0m \u001b[1;31m# Create figure w/ 4 subplots; share x axis across subplots\u001b[0m\u001b[1;33m\u001b[0m\u001b[1;33m\u001b[0m\u001b[1;33m\u001b[0m\u001b[0m\n\u001b[1;32m----> 2\u001b[1;33m \u001b[0mfig\u001b[0m\u001b[1;33m,\u001b[0m \u001b[1;33m(\u001b[0m\u001b[0max1\u001b[0m\u001b[1;33m,\u001b[0m \u001b[0max2\u001b[0m\u001b[1;33m,\u001b[0m \u001b[0max3\u001b[0m\u001b[1;33m,\u001b[0m \u001b[0max4\u001b[0m\u001b[1;33m)\u001b[0m \u001b[1;33m=\u001b[0m \u001b[0mplt\u001b[0m\u001b[1;33m.\u001b[0m\u001b[0msubplots\u001b[0m\u001b[1;33m(\u001b[0m\u001b[0mnrows\u001b[0m\u001b[1;33m=\u001b[0m\u001b[1;36m2\u001b[0m\u001b[1;33m,\u001b[0m \u001b[0mncols\u001b[0m\u001b[1;33m=\u001b[0m\u001b[1;36m2\u001b[0m\u001b[1;33m,\u001b[0m \u001b[0msharex\u001b[0m\u001b[1;33m=\u001b[0m\u001b[1;32mFalse\u001b[0m\u001b[1;33m,\u001b[0m\u001b[0mfigsize\u001b[0m\u001b[1;33m=\u001b[0m\u001b[1;33m(\u001b[0m\u001b[1;36m10\u001b[0m\u001b[1;33m,\u001b[0m \u001b[1;36m20\u001b[0m\u001b[1;33m)\u001b[0m\u001b[1;33m)\u001b[0m\u001b[1;33m\u001b[0m\u001b[1;33m\u001b[0m\u001b[0m\n\u001b[0m\u001b[0;32m      3\u001b[0m \u001b[1;33m\u001b[0m\u001b[0m\n\u001b[0;32m      4\u001b[0m \u001b[1;32mfor\u001b[0m \u001b[0max\u001b[0m \u001b[1;32min\u001b[0m \u001b[1;33m[\u001b[0m\u001b[0max1\u001b[0m\u001b[1;33m,\u001b[0m \u001b[0max2\u001b[0m\u001b[1;33m,\u001b[0m \u001b[0max3\u001b[0m\u001b[1;33m,\u001b[0m \u001b[0max4\u001b[0m\u001b[1;33m]\u001b[0m\u001b[1;33m:\u001b[0m\u001b[1;33m\u001b[0m\u001b[1;33m\u001b[0m\u001b[0m\n\u001b[0;32m      5\u001b[0m     \u001b[0max\u001b[0m\u001b[1;33m.\u001b[0m\u001b[0mset_xlim\u001b[0m\u001b[1;33m(\u001b[0m\u001b[1;33m[\u001b[0m\u001b[1;36m0\u001b[0m\u001b[1;33m,\u001b[0m \u001b[1;36m132\u001b[0m\u001b[1;33m]\u001b[0m\u001b[1;33m)\u001b[0m\u001b[1;33m\u001b[0m\u001b[1;33m\u001b[0m\u001b[0m\n",
      "\u001b[1;31mValueError\u001b[0m: not enough values to unpack (expected 4, got 2)"
     ]
    },
    {
     "data": {
      "image/png": "[encoded data removed]",
      "text/plain": [
       "<Figure size 720x1440 with 4 Axes>"
      ]
     },
     "metadata": {
      "needs_background": "light"
     },
     "output_type": "display_data"
    }
   ],
   "source": [
    "# Create figure w/ 4 subplots; share x axis across subplots\n",
    "fig, (ax1, ax2, ax3, ax4) = plt.subplots(nrows=2, ncols=2, sharex=False,figsize=(10, 20))\n",
    "\n",
    "for ax in [ax1, ax2, ax3, ax4]:\n",
    "    ax.set_xlim([0, 132])\n",
    "\n",
    "\n",
    "fig.text(0.04, 0.5, 'Personal Savings Rate', va='center', rotation='vertical',fontsize=16)\n",
    "   \n",
    "fig.suptitle(\"Personal Savings Rates Across Recessions\",fontsize=16,fontweight=\"bold\")\n",
    "\n",
    "# space between subplots\n",
    "fig.subplots_adjust(hspace=0.60)\n",
    "\n",
    "# ==========================Subplot 1973 ===================================================\n",
    "ax1.plot(savingsrate1973[\"Date\"], savingsrate1973[\"Savings_rate\"],linewidth=1,color=\"c\")\n",
    "ax1.set_title(\"1973 Recession\")\n",
    "\n",
    "# x,y limits and ticks\n",
    "ax1.set_yticks(np.arange(8, 18, 2))\n",
    "ax1.xaxis.set_major_locator(plt.MaxNLocator(4))\n",
    "plt.setp( ax1.xaxis.get_majorticklabels(), rotation=30 )\n",
    "\n",
    "# Before recession avg line\n",
    "ax1.axhline(y=sav1973b,xmin=0,xmax=0.45, c='green', alpha=0.30, linewidth=3)\n",
    "ax1.annotate(f\"Avg={sav1973b}\",(1,sav1973b+.25),fontsize=12,color=\"black\")\n",
    "\n",
    "# After recession avg line\n",
    "ax1.axhline(y=sav1973a,xmin=0.46,xmax=1, c='red', alpha=0.30, linewidth=3)\n",
    "ax1.annotate(f\"Avg={sav1973a}\",(62,sav1973a+.25),fontsize=12,color=\"black\")\n",
    "\n",
    "# vert line -recession start\n",
    "ax1.axvline(x=60,c='black', alpha=0.25)\n",
    "\n",
    "# ==============================Subplot 1980 ==============================================\n",
    "ax2.plot(savingsrate1980[\"Date\"], savingsrate1980[\"Savings_rate\"], linewidth=1,  color=\"b\")\n",
    "ax2.set_title(\"1980 Recession\")\n",
    "\n",
    "ax2.set_yticks(np.arange(6, 14, 2))\n",
    "ax2.xaxis.set_major_locator(plt.MaxNLocator(5))\n",
    "plt.setp( ax2.xaxis.get_majorticklabels(), rotation=30 )\n",
    "\n",
    "# Before recession avg line\n",
    "ax2.axhline(y=sav1980b,xmin=0,xmax=0.45, c='green', alpha=0.30, linewidth=3)\n",
    "ax2.annotate(f\"Avg={sav1980b}\",(1,sav1980b+.25),fontsize=12,color=\"black\")\n",
    "\n",
    "# After recession avg line\n",
    "ax2.axhline(y=sav1980a,xmin=0.46,xmax=1, c='red', alpha=0.30, linewidth=3)\n",
    "ax2.annotate(f\"Avg={sav1980a}\",(62,sav1980a+.25),fontsize=12,color=\"black\")\n",
    "\n",
    "# vert line -recession start\n",
    "ax2.axvline(x=60,c='black', alpha=0.25)\n",
    "\n",
    "# ==============================Subplot 2001 ==========================================\n",
    "ax3.plot(savingsrate2001[\"Date\"], savingsrate2001[\"Savings_rate\"], linewidth=1, color=\"r\")\n",
    "ax3.set_title(\"2001 Recession\")\n",
    "\n",
    "ax3.set_yticks(np.arange(2, 12, 2))\n",
    "ax3.xaxis.set_major_locator(plt.MaxNLocator(5))\n",
    "plt.setp( ax3.xaxis.get_majorticklabels(), rotation=30 )\n",
    "\n",
    "# Before recession avg line\n",
    "ax3.axhline(y=sav2001b,xmin=0,xmax=0.45, c='green', alpha=0.30, linewidth=3)\n",
    "ax3.annotate(f\"Avg={sav2001b}\",(1,sav2001b+.25),fontsize=12,color=\"black\")\n",
    "\n",
    "# After recession avg line\n",
    "ax3.axhline(y=sav2001a,xmin=0.46,xmax=1, c='red', alpha=0.30, linewidth=3)\n",
    "ax3.annotate(f\"Avg={sav2001a}\",(62,sav2001a+.25),fontsize=12,color=\"black\")\n",
    "\n",
    "# vert line -recession start\n",
    "ax3.axvline(x=60,c='black', alpha=0.25)\n",
    "\n",
    "# ======================================Subplot 2008 =====================================-\n",
    "ax4.plot(savingsrate2008[\"Date\"], savingsrate2008[\"Savings_rate\"], linewidth=1,  color=\"g\")\n",
    "ax4.set_title(\"2008 Recession\")\n",
    "\n",
    "ax4.set_yticks(np.arange(2, 12,2))\n",
    "ax4.xaxis.set_major_locator(plt.MaxNLocator(5))\n",
    "plt.setp( ax4.xaxis.get_majorticklabels(), rotation=30 )\n",
    "\n",
    "# Before recession avg line\n",
    "ax4.axhline(y=sav2008b,xmin=0,xmax=0.45, c='green', alpha=0.30, linewidth=3)\n",
    "ax4.annotate(f\"Avg={sav2008b}\",(1,sav2008b+.25),fontsize=12,color=\"black\")\n",
    "\n",
    "# After recession avg line\n",
    "ax4.axhline(y=sav2008a,xmin=0.46,xmax=1, c='red', alpha=0.30, linewidth=3)\n",
    "ax4.annotate(f\"Avg={sav2008a}\",(62,sav2008a+.25),fontsize=12,color=\"black\")\n",
    "\n",
    "# vert line -recession start\n",
    "ax4.axvline(x=60,c='black', alpha=0.25)\n",
    "\n",
    "# ========================Subplot Present Day ============================================\n",
    "#ax5.plot(savingsrate2020[\"Date\"], savingsrate2020[\"Savings_rate\"], linewidth=1,  color=\"y\")\n",
    "#ax5.set_title(\"Present Day\")\n",
    "\n",
    "#ax5.set_yticks(np.arange(4, 12, 2))\n",
    "#ax5.xaxis.set_major_locator(plt.MaxNLocator(5))\n",
    "#plt.setp( ax5.xaxis.get_majorticklabels(), rotation=30 )\n",
    "\n",
    "# Before recession avg line\n",
    "#ax5.axhline(y=sav2020p,xmin=0,xmax=0.45, c='green', alpha=0.30, linewidth=3)\n",
    "#ax5.annotate(f\"Avg={sav2020p}\",(1,sav2020p+.25),fontsize=12,color=\"black\")\n",
    "\n",
    "#ax5.axvline(x=60,c='black', alpha=0.25)\n",
    "# ================================================================================\n",
    "\n",
    "plt.show()\n",
    "\n",
    "plt.savefig(\"Savings_rates.png\")\n"
   ]
  },
  {
   "cell_type": "code",
   "execution_count": null,
   "metadata": {},
   "outputs": [],
   "source": []
  },
  {
   "cell_type": "code",
   "execution_count": null,
   "metadata": {},
   "outputs": [],
   "source": []
  }
 ],
 "metadata": {
  "kernelspec": {
   "display_name": "Python 3",
   "language": "python",
   "name": "python3"
  },
  "language_info": {
   "codemirror_mode": {
    "name": "ipython",
    "version": 3
   },
   "file_extension": ".py",
   "mimetype": "text/x-python",
   "name": "python",
   "nbconvert_exporter": "python",
   "pygments_lexer": "ipython3",
   "version": "3.7.4"
  }
 },
 "nbformat": 4,
 "nbformat_minor": 2
}
