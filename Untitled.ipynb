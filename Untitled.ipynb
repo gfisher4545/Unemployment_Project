{
 "cells": [
  {
   "cell_type": "code",
   "execution_count": 1,
   "metadata": {},
   "outputs": [],
   "source": [
    "# Dependencies and Setup\n",
    "import matplotlib.pyplot as plt\n",
    "import pandas as pd\n",
    "import numpy as np"
   ]
  },
  {
   "cell_type": "code",
   "execution_count": 2,
   "metadata": {},
   "outputs": [],
   "source": [
    "savings_data = \"savingsrate.csv\""
   ]
  },
  {
   "cell_type": "code",
   "execution_count": 3,
   "metadata": {},
   "outputs": [
    {
     "data": {
      "text/html": [
       "<div>\n",
       "<style scoped>\n",
       "    .dataframe tbody tr th:only-of-type {\n",
       "        vertical-align: middle;\n",
       "    }\n",
       "\n",
       "    .dataframe tbody tr th {\n",
       "        vertical-align: top;\n",
       "    }\n",
       "\n",
       "    .dataframe thead th {\n",
       "        text-align: right;\n",
       "    }\n",
       "</style>\n",
       "<table border=\"1\" class=\"dataframe\">\n",
       "  <thead>\n",
       "    <tr style=\"text-align: right;\">\n",
       "      <th></th>\n",
       "      <th>DATE</th>\n",
       "      <th>PSAVERT</th>\n",
       "    </tr>\n",
       "  </thead>\n",
       "  <tbody>\n",
       "    <tr>\n",
       "      <td>0</td>\n",
       "      <td>1959-01-01</td>\n",
       "      <td>11.3</td>\n",
       "    </tr>\n",
       "    <tr>\n",
       "      <td>1</td>\n",
       "      <td>1959-02-01</td>\n",
       "      <td>10.6</td>\n",
       "    </tr>\n",
       "    <tr>\n",
       "      <td>2</td>\n",
       "      <td>1959-03-01</td>\n",
       "      <td>10.3</td>\n",
       "    </tr>\n",
       "    <tr>\n",
       "      <td>3</td>\n",
       "      <td>1959-04-01</td>\n",
       "      <td>11.2</td>\n",
       "    </tr>\n",
       "    <tr>\n",
       "      <td>4</td>\n",
       "      <td>1959-05-01</td>\n",
       "      <td>10.6</td>\n",
       "    </tr>\n",
       "  </tbody>\n",
       "</table>\n",
       "</div>"
      ],
      "text/plain": [
       "         DATE  PSAVERT\n",
       "0  1959-01-01     11.3\n",
       "1  1959-02-01     10.6\n",
       "2  1959-03-01     10.3\n",
       "3  1959-04-01     11.2\n",
       "4  1959-05-01     10.6"
      ]
     },
     "execution_count": 3,
     "metadata": {},
     "output_type": "execute_result"
    }
   ],
   "source": [
    "savingsrate_df = pd.read_csv(savings_data, encoding=\"ISO-8859-1\") \n",
    "savingsrate_df.head()"
   ]
  },
  {
   "cell_type": "code",
   "execution_count": 4,
   "metadata": {},
   "outputs": [
    {
     "data": {
      "text/html": [
       "<div>\n",
       "<style scoped>\n",
       "    .dataframe tbody tr th:only-of-type {\n",
       "        vertical-align: middle;\n",
       "    }\n",
       "\n",
       "    .dataframe tbody tr th {\n",
       "        vertical-align: top;\n",
       "    }\n",
       "\n",
       "    .dataframe thead th {\n",
       "        text-align: right;\n",
       "    }\n",
       "</style>\n",
       "<table border=\"1\" class=\"dataframe\">\n",
       "  <thead>\n",
       "    <tr style=\"text-align: right;\">\n",
       "      <th></th>\n",
       "      <th>Date</th>\n",
       "      <th>Savings_rate</th>\n",
       "    </tr>\n",
       "  </thead>\n",
       "  <tbody>\n",
       "    <tr>\n",
       "      <td>0</td>\n",
       "      <td>1959-01-01</td>\n",
       "      <td>11.3</td>\n",
       "    </tr>\n",
       "    <tr>\n",
       "      <td>1</td>\n",
       "      <td>1959-02-01</td>\n",
       "      <td>10.6</td>\n",
       "    </tr>\n",
       "    <tr>\n",
       "      <td>2</td>\n",
       "      <td>1959-03-01</td>\n",
       "      <td>10.3</td>\n",
       "    </tr>\n",
       "    <tr>\n",
       "      <td>3</td>\n",
       "      <td>1959-04-01</td>\n",
       "      <td>11.2</td>\n",
       "    </tr>\n",
       "    <tr>\n",
       "      <td>4</td>\n",
       "      <td>1959-05-01</td>\n",
       "      <td>10.6</td>\n",
       "    </tr>\n",
       "  </tbody>\n",
       "</table>\n",
       "</div>"
      ],
      "text/plain": [
       "         Date  Savings_rate\n",
       "0  1959-01-01          11.3\n",
       "1  1959-02-01          10.6\n",
       "2  1959-03-01          10.3\n",
       "3  1959-04-01          11.2\n",
       "4  1959-05-01          10.6"
      ]
     },
     "execution_count": 4,
     "metadata": {},
     "output_type": "execute_result"
    }
   ],
   "source": [
    "savingsrate_df = savingsrate_df.rename(columns=\n",
    "                                      {\"DATE\":\"Date\",\n",
    "                                      \"PSAVERT\": \"Savings_rate\"}\n",
    "                                      )\n",
    "savingsrate_df.head()"
   ]
  },
  {
   "cell_type": "code",
   "execution_count": 12,
   "metadata": {},
   "outputs": [
    {
     "data": {
      "text/html": [
       "<div>\n",
       "<style scoped>\n",
       "    .dataframe tbody tr th:only-of-type {\n",
       "        vertical-align: middle;\n",
       "    }\n",
       "\n",
       "    .dataframe tbody tr th {\n",
       "        vertical-align: top;\n",
       "    }\n",
       "\n",
       "    .dataframe thead th {\n",
       "        text-align: right;\n",
       "    }\n",
       "</style>\n",
       "<table border=\"1\" class=\"dataframe\">\n",
       "  <thead>\n",
       "    <tr style=\"text-align: right;\">\n",
       "      <th></th>\n",
       "      <th>Date</th>\n",
       "      <th>Savings_rate</th>\n",
       "    </tr>\n",
       "  </thead>\n",
       "  <tbody>\n",
       "    <tr>\n",
       "      <td>672</td>\n",
       "      <td>2015-01-01</td>\n",
       "      <td>7.8</td>\n",
       "    </tr>\n",
       "    <tr>\n",
       "      <td>673</td>\n",
       "      <td>2015-02-01</td>\n",
       "      <td>7.9</td>\n",
       "    </tr>\n",
       "    <tr>\n",
       "      <td>674</td>\n",
       "      <td>2015-03-01</td>\n",
       "      <td>7.4</td>\n",
       "    </tr>\n",
       "    <tr>\n",
       "      <td>675</td>\n",
       "      <td>2015-04-01</td>\n",
       "      <td>7.6</td>\n",
       "    </tr>\n",
       "    <tr>\n",
       "      <td>676</td>\n",
       "      <td>2015-05-01</td>\n",
       "      <td>7.6</td>\n",
       "    </tr>\n",
       "    <tr>\n",
       "      <td>...</td>\n",
       "      <td>...</td>\n",
       "      <td>...</td>\n",
       "    </tr>\n",
       "    <tr>\n",
       "      <td>728</td>\n",
       "      <td>2019-09-01</td>\n",
       "      <td>7.8</td>\n",
       "    </tr>\n",
       "    <tr>\n",
       "      <td>729</td>\n",
       "      <td>2019-10-01</td>\n",
       "      <td>7.7</td>\n",
       "    </tr>\n",
       "    <tr>\n",
       "      <td>730</td>\n",
       "      <td>2019-11-01</td>\n",
       "      <td>7.8</td>\n",
       "    </tr>\n",
       "    <tr>\n",
       "      <td>731</td>\n",
       "      <td>2019-12-01</td>\n",
       "      <td>7.5</td>\n",
       "    </tr>\n",
       "    <tr>\n",
       "      <td>732</td>\n",
       "      <td>2020-01-01</td>\n",
       "      <td>7.9</td>\n",
       "    </tr>\n",
       "  </tbody>\n",
       "</table>\n",
       "<p>61 rows × 2 columns</p>\n",
       "</div>"
      ],
      "text/plain": [
       "           Date  Savings_rate\n",
       "672  2015-01-01           7.8\n",
       "673  2015-02-01           7.9\n",
       "674  2015-03-01           7.4\n",
       "675  2015-04-01           7.6\n",
       "676  2015-05-01           7.6\n",
       "..          ...           ...\n",
       "728  2019-09-01           7.8\n",
       "729  2019-10-01           7.7\n",
       "730  2019-11-01           7.8\n",
       "731  2019-12-01           7.5\n",
       "732  2020-01-01           7.9\n",
       "\n",
       "[61 rows x 2 columns]"
      ]
     },
     "execution_count": 12,
     "metadata": {},
     "output_type": "execute_result"
    }
   ],
   "source": [
    "# Extract date ranges to include 5yrs (60 mos) before and after each recession\n",
    "savingsrate1973 = savingsrate_df.iloc[108:228]\n",
    "savingsrate1987 = savingsrate_df.iloc[276:396]\n",
    "savingsrate2001 = savingsrate_df.iloc[444:564]\n",
    "savingsrate2008 = savingsrate_df.iloc[528:648]\n",
    "savingsrate2020 = savingsrate_df.iloc[672:733]\n",
    "savingsrate2020"
   ]
  },
  {
   "cell_type": "code",
   "execution_count": 14,
   "metadata": {},
   "outputs": [],
   "source": [
    "#Find the max/min savings_rate across all recessions\n",
    "savingsrate73_08 = savingsrate_df.iloc[108:733]\n",
    "max_save = savingsrate73_08.max()\n",
    "min_save = savingsrate73_08.min()"
   ]
  },
  {
   "cell_type": "code",
   "execution_count": 15,
   "metadata": {},
   "outputs": [
    {
     "ename": "NameError",
     "evalue": "name 'savingsrate2000' is not defined",
     "output_type": "error",
     "traceback": [
      "\u001b[1;31m---------------------------------------------------------------------------\u001b[0m",
      "\u001b[1;31mNameError\u001b[0m                                 Traceback (most recent call last)",
      "\u001b[1;32m<ipython-input-15-77111e24216a>\u001b[0m in \u001b[0;36m<module>\u001b[1;34m\u001b[0m\n\u001b[0;32m     27\u001b[0m \u001b[1;33m\u001b[0m\u001b[0m\n\u001b[0;32m     28\u001b[0m \u001b[1;31m#--------------------------------------------------\u001b[0m\u001b[1;33m\u001b[0m\u001b[1;33m\u001b[0m\u001b[1;33m\u001b[0m\u001b[0m\n\u001b[1;32m---> 29\u001b[1;33m \u001b[0max3\u001b[0m\u001b[1;33m.\u001b[0m\u001b[0mplot\u001b[0m\u001b[1;33m(\u001b[0m\u001b[0mx_axis\u001b[0m\u001b[1;33m,\u001b[0m \u001b[0msavingsrate2000\u001b[0m\u001b[1;33m[\u001b[0m\u001b[1;34m\"Savings_rate\"\u001b[0m\u001b[1;33m]\u001b[0m\u001b[1;33m,\u001b[0m \u001b[0mlinewidth\u001b[0m\u001b[1;33m=\u001b[0m\u001b[1;36m1\u001b[0m\u001b[1;33m,\u001b[0m \u001b[0mmarker\u001b[0m\u001b[1;33m=\u001b[0m\u001b[1;34m\"o\"\u001b[0m\u001b[1;33m,\u001b[0m \u001b[0mcolor\u001b[0m\u001b[1;33m=\u001b[0m\u001b[1;34m\"r\"\u001b[0m\u001b[1;33m)\u001b[0m\u001b[1;33m\u001b[0m\u001b[1;33m\u001b[0m\u001b[0m\n\u001b[0m\u001b[0;32m     30\u001b[0m \u001b[0max3\u001b[0m\u001b[1;33m.\u001b[0m\u001b[0mset_ylabel\u001b[0m\u001b[1;33m(\u001b[0m\u001b[1;34m\"Savings Rate (2001 Recession)\"\u001b[0m\u001b[1;33m,\u001b[0m\u001b[0mfontsize\u001b[0m\u001b[1;33m=\u001b[0m\u001b[1;36m14\u001b[0m\u001b[1;33m)\u001b[0m\u001b[1;33m\u001b[0m\u001b[1;33m\u001b[0m\u001b[0m\n\u001b[0;32m     31\u001b[0m \u001b[1;33m\u001b[0m\u001b[0m\n",
      "\u001b[1;31mNameError\u001b[0m: name 'savingsrate2000' is not defined"
     ]
    },
    {
     "data": {
      "image/png": "[encoded data removed]",
      "text/plain": [
       "<Figure size 720x1800 with 5 Axes>"
      ]
     },
     "metadata": {
      "needs_background": "light"
     },
     "output_type": "display_data"
    }
   ],
   "source": [
    "# Create x-axis range values\n",
    "x_axis = np.arange(0, 120, 1)\n",
    "\n",
    "# Create fiure w/ 4 subplots; share x & y axes across subplots\n",
    "fig, (ax1, ax2, ax3, ax4, ax5) = plt.subplots(5, sharex=True,\n",
    "                                         figsize=(10, 25))\n",
    "# Remove space between subplots\n",
    "#fig.subplots_adjust(hspace=0)\n",
    "\n",
    "fig.suptitle(\"Savings Rates Across Recessions\",\n",
    "             fontsize=16,\n",
    "             fontweight=\"bold\")\n",
    "#-----------------------------------------------------------\n",
    "ax1.plot(x_axis, savingsrate1973[\"Savings_rate\"],linewidth=1,marker=\"o\",color=\"c\")\n",
    "\n",
    "# Chart label, limit, and ticks\n",
    "ax1.set_title(\"1973 Recession\")\n",
    "ax1.set_ylabel(\"Savings Rate\",fontsize=14)\n",
    "ax1.set_xlim(0, 130)\n",
    "ax1.set_yticks(np.arange(2, 18, 2))\n",
    "\n",
    "#-------------------------------------------------\n",
    "ax2.plot(x_axis, savingsrate1987[\"Savings_rate\"], linewidth=1, marker=\"o\", color=\"b\")\n",
    "\n",
    "ax2.set_title(\"1987 Recession\")\n",
    "ax2.set_ylabel(\"Savings Rate\",fontsize=14)\n",
    "\n",
    "\n",
    "\n",
    "#--------------------------------------------------\n",
    "ax3.plot(x_axis, savingsrate2000[\"Savings_rate\"], linewidth=1, marker=\"o\", color=\"r\")\n",
    "\n",
    "ax3.set_title(\"2000 Recession\")\n",
    "ax3.set_ylabel(\"Savings Rate (2001 Recession)\",fontsize=14)\n",
    "\n",
    "\n",
    "#---------------------------------------------------\n",
    "ax4.plot(x_axis, savingsrate2008[\"Savings_rate\"], linewidth=1, marker=\"o\", color=\"g\")\n",
    "ax4.set_ylabel(\"Savings Rate \",fontsize=14)\n",
    "ax4.set_xlabel(\"Recession datum, (months)\", fontsize=14,)\n",
    "\n",
    "\n",
    "#--------------------------------------------------------------------------\n",
    "x_axis2 = np.arange(0, 61, 1)\n",
    "\n",
    "ax5.plot(x_axis2, savingsrate2020[\"Savings_rate\"], linewidth=1, marker=\"o\", color=\"y\")\n",
    "ax5.set_ylabel(\"Savings Rate (2020 Recession)\",fontsize=14)\n",
    "ax5.set_xlabel(\"Recession datum, (months)\", fontsize=14,)\n",
    "\n",
    "# Horizontal line\n",
    "#ax5.axhline(y=10,c='black', alpha=0.2)\n",
    "\n",
    "\n",
    "plt.show()\n",
    "\n",
    "plt.savefig(\"Savings_rates.png\")\n"
   ]
  },
  {
   "cell_type": "code",
   "execution_count": null,
   "metadata": {},
   "outputs": [],
   "source": []
  }
 ],
 "metadata": {
  "kernelspec": {
   "display_name": "Python 3",
   "language": "python",
   "name": "python3"
  },
  "language_info": {
   "codemirror_mode": {
    "name": "ipython",
    "version": 3
   },
   "file_extension": ".py",
   "mimetype": "text/x-python",
   "name": "python",
   "nbconvert_exporter": "python",
   "pygments_lexer": "ipython3",
   "version": "3.7.4"
  }
 },
 "nbformat": 4,
 "nbformat_minor": 2
}
